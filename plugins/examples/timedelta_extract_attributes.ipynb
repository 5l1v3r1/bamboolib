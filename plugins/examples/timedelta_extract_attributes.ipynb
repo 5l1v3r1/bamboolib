{
 "cells": [
  {
   "cell_type": "markdown",
   "metadata": {},
   "source": [
    "# Extracting attributes from timedelta columns, like weeks or days via a ColumnTransformation plugin\n",
    "\n",
    "inspired by the following stackoverflow question:\n",
    "https://stackoverflow.com/questions/38355816/pandas-add-timedelta-column-to-datetime-column-vectorized"
   ]
  },
  {
   "cell_type": "code",
   "execution_count": null,
   "metadata": {},
   "outputs": [],
   "source": [
    "import pandas as pd\n",
    "import bamboolib as bam\n",
    "\n",
    "df = pd.DataFrame([['2016-01-10',28],['2016-05-11',28],['2016-02-23',15],['2015-12-08',30]], \n",
    "                      columns = ['date','timedelta'])\n",
    "\n",
    "df['date'] = pd.to_datetime(df['date'])\n",
    "df['timedelta'] = pd.to_timedelta(df['timedelta'], 'd')"
   ]
  },
  {
   "cell_type": "code",
   "execution_count": null,
   "metadata": {},
   "outputs": [],
   "source": [
    "df"
   ]
  },
  {
   "cell_type": "code",
   "execution_count": null,
   "metadata": {},
   "outputs": [],
   "source": [
    "# # goal is to extract the number of weeks based on the timedelta column, for example:\n",
    "# df['weeks'] = df['timedelta'] / np.timedelta64(1, 'W')"
   ]
  },
  {
   "cell_type": "code",
   "execution_count": null,
   "metadata": {},
   "outputs": [],
   "source": [
    "import ipywidgets as widgets\n",
    "\n",
    "from bamboolib.plugins import ColumnTransformationPlugin, DF_OLD, SelectizeDropdown\n",
    "\n",
    "\n",
    "class TimedeltaExtractAttribute(ColumnTransformationPlugin):\n",
    "\n",
    "    name = \"Timedelta: extract attribute\"\n",
    "\n",
    "    def __init__(self, *args, column=None, **kwargs):\n",
    "        super().__init__(*args, **kwargs)\n",
    "\n",
    "        self.column = column\n",
    "\n",
    "        # based on https://docs.scipy.org/doc/numpy/reference/arrays.datetime.html#datetime-units\n",
    "        self.attribute = SelectizeDropdown(\n",
    "            options=[\n",
    "                (\"year\", \"Y\"),\n",
    "                (\"month\", \"M\"),\n",
    "                (\"week\", \"W\"),\n",
    "                (\"day\", \"D\"),\n",
    "                (\"hour\", \"h\"),\n",
    "                (\"minute\", \"m\"),\n",
    "                (\"second\", \"s\"),\n",
    "            ],\n",
    "            value=\"D\",\n",
    "        )\n",
    "        self.new_column_name = widgets.Text(value=self.column)\n",
    "\n",
    "    def render(self):\n",
    "        self.set_title(\"Extract attribute\")\n",
    "        self.set_content(\n",
    "            widgets.HTML(f\"Convert <b>{self.column}</b> to\"),\n",
    "            self.attribute,\n",
    "            widgets.HTML(\"New column name:\"),\n",
    "            self.new_column_name,\n",
    "        )\n",
    "\n",
    "    def get_description(self):\n",
    "        return (\n",
    "            f\"Extract timedelta attribute {self.attribute.label} from '{self.column}'\"\n",
    "        )\n",
    "\n",
    "    def get_code(self):\n",
    "        return f\"\"\"{DF_OLD}['{self.new_column_name.value}'] = {DF_OLD}['{self.column}'] / np.timedelta64(1, '{self.attribute.value}')\"\"\"\n"
   ]
  },
  {
   "cell_type": "markdown",
   "metadata": {},
   "source": [
    "The plugin is shown in bamboolib when clicking on the column header of timedelta"
   ]
  },
  {
   "cell_type": "code",
   "execution_count": null,
   "metadata": {},
   "outputs": [],
   "source": [
    "df"
   ]
  },
  {
   "cell_type": "code",
   "execution_count": null,
   "metadata": {},
   "outputs": [],
   "source": []
  }
 ],
 "metadata": {
  "jupytext": {
   "cell_metadata_filter": "-all",
   "notebook_metadata_filter": "-all"
  },
  "kernelspec": {
   "display_name": "Python 3",
   "language": "python",
   "name": "python3"
  },
  "language_info": {
   "codemirror_mode": {
    "name": "ipython",
    "version": 3
   },
   "file_extension": ".py",
   "mimetype": "text/x-python",
   "name": "python",
   "nbconvert_exporter": "python",
   "pygments_lexer": "ipython3",
   "version": "3.7.4"
  }
 },
 "nbformat": 4,
 "nbformat_minor": 2
}
